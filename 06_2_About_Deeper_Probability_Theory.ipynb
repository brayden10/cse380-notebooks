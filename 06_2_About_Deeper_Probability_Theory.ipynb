{
  "nbformat": 4,
  "nbformat_minor": 0,
  "metadata": {
    "colab": {
      "name": "06_2_About_Deeper_Probability_Theory.ipynb",
      "provenance": [],
      "include_colab_link": true
    },
    "kernelspec": {
      "name": "python3",
      "display_name": "Python 3"
    }
  },
  "cells": [
    {
      "cell_type": "markdown",
      "metadata": {
        "id": "view-in-github",
        "colab_type": "text"
      },
      "source": [
        "<a href=\"https://colab.research.google.com/github/brayden10/cse380-notebooks/blob/master/06_2_About_Deeper_Probability_Theory.ipynb\" target=\"_parent\"><img src=\"https://colab.research.google.com/assets/colab-badge.svg\" alt=\"Open In Colab\"/></a>"
      ]
    },
    {
      "cell_type": "markdown",
      "metadata": {
        "id": "0jLkxJOoK0gK"
      },
      "source": [
        "# About Deeper Probability Theory\n",
        "## Class Directed Learning\n",
        "### Due: Wednesday, 10 February 2021, 11:59pm"
      ]
    },
    {
      "cell_type": "markdown",
      "metadata": {
        "id": "_3XuHK7JLA1u"
      },
      "source": [
        "## Explore Another Pascal's Triangle Pattern\n"
      ]
    },
    {
      "cell_type": "markdown",
      "metadata": {
        "id": "wjL1DY1ALOcI"
      },
      "source": [
        "### The Distribution of the Odds\n",
        "```\n",
        "                                                                                                    # of 1's\n",
        "                                                                   1                                   1\n",
        "                                                                  1 1                                  2\n",
        "                                                                 1   1                                 2\n",
        "                                                                1 1 1 1                                4\n",
        "                                                               1       1                               2\n",
        "                                                              1 1     1 1                              4\n",
        "                                                             1   1   1   1                             4\n",
        "                                                            1 1 1 1 1 1 1 1                            8\n",
        "                                                           1               1                           2\n",
        "                                                          1 1             1 1                          4\n",
        "                                                         1   1           1   1                         4\n",
        "                                                        1 1 1 1         1 1 1 1                        8\n",
        "                                                       1       1       1       1                       4\n",
        "                                                      1 1     1 1     1 1     1 1                      8\n",
        "                                                     1   1   1   1   1   1   1   1                     8\n",
        "                                                    1 1 1 1 1 1 1 1 1 1 1 1 1 1 1 1                   16\n",
        "                                                   1                               1                   2\n",
        "                                                  1 1                             1 1                  4\n",
        "                                                 1   1                           1   1                 4\n",
        "                                                1 1 1 1                         1 1 1 1                8\n",
        "                                               1       1                       1       1               4\n",
        "                                              1 1     1 1                     1 1     1 1              8\n",
        "                                             1   1   1   1                   1   1   1   1             8\n",
        "                                            1 1 1 1 1 1 1 1                 1 1 1 1 1 1 1 1           16\n",
        "                                           1               1               1               1           4\n",
        "                                          1 1             1 1             1 1             1 1          8\n",
        "                                         1   1           1   1           1   1           1   1         8\n",
        "                                        1 1 1 1         1 1 1 1         1 1 1 1         1 1 1 1       16\n",
        "                                       1       1       1       1       1       1       1       1       8\n",
        "                                      1 1     1 1     1 1     1 1     1 1     1 1     1 1     1 1     16\n",
        "                                     1   1   1   1   1   1   1   1   1   1   1   1   1   1   1   1    16\n",
        "                                    1 1 1 1 1 1 1 1 1 1 1 1 1 1 1 1 1 1 1 1 1 1 1 1 1 1 1 1 1 1 1 1   32\n",
        "                                   1                                                               1   2\n",
        "                                  1 1                                                             1 1 etc.\n",
        "                                 1   1                                                           1   1\n",
        "                                1 1 1 1                                                         1 1 1 1\n",
        "                               1       1                                                       1       1\n",
        "                              1 1     1 1                                                     1 1     1 1\n",
        "                             1   1   1   1                                                   1   1   1   1\n",
        "                            1 1 1 1 1 1 1 1                                                 1 1 1 1 1 1 1 1\n",
        "                           1               1                                               1               1\n",
        "                          1 1             1 1                                             1 1             1 1\n",
        "                         1   1           1   1                                           1   1           1   1\n",
        "                        1 1 1 1         1 1 1 1                                         1 1 1 1         1 1 1 1\n",
        "                       1       1       1       1                                       1       1       1       1\n",
        "                      1 1     1 1     1 1     1 1                                     1 1     1 1     1 1     1 1\n",
        "                     1   1   1   1   1   1   1   1                                   1   1   1   1   1   1   1   1\n",
        "                    1 1 1 1 1 1 1 1 1 1 1 1 1 1 1 1                                 1 1 1 1 1 1 1 1 1 1 1 1 1 1 1 1\n",
        "                   1                               1                               1                               1\n",
        "                  1 1                             1 1                             1 1                             1 1\n",
        "                 1   1                           1   1                           1   1                           1   1\n",
        "                1 1 1 1                         1 1 1 1                         1 1 1 1                         1 1 1 1\n",
        "               1       1                       1       1                       1       1                       1       1\n",
        "              1 1     1 1                     1 1     1 1                     1 1     1 1                     1 1     1 1\n",
        "             1   1   1   1                   1   1   1   1                   1   1   1   1                   1   1   1   1\n",
        "            1 1 1 1 1 1 1 1                 1 1 1 1 1 1 1 1                 1 1 1 1 1 1 1 1                 1 1 1 1 1 1 1 1\n",
        "           1               1               1               1               1               1               1               1\n",
        "          1 1             1 1             1 1             1 1             1 1             1 1             1 1             1 1\n",
        "         1   1           1   1           1   1           1   1           1   1           1   1           1   1           1   1\n",
        "        1 1 1 1         1 1 1 1         1 1 1 1         1 1 1 1         1 1 1 1         1 1 1 1         1 1 1 1         1 1 1 1\n",
        "       1       1       1       1       1       1       1       1       1       1       1       1       1       1       1       1\n",
        "      1 1     1 1     1 1     1 1     1 1     1 1     1 1     1 1     1 1     1 1     1 1     1 1     1 1     1 1     1 1     1 1\n",
        "     1   1   1   1   1   1   1   1   1   1   1   1   1   1   1   1   1   1   1   1   1   1   1   1   1   1   1   1   1   1   1   1\n",
        "    1 1 1 1 1 1 1 1 1 1 1 1 1 1 1 1 1 1 1 1 1 1 1 1 1 1 1 1 1 1 1 1 1 1 1 1 1 1 1 1 1 1 1 1 1 1 1 1 1 1 1 1 1 1 1 1 1 1 1 1 1 1 1 1\n",
        "\n",
        "```"
      ]
    },
    {
      "cell_type": "markdown",
      "metadata": {
        "id": "qLKo-LYUMsui"
      },
      "source": [
        "### In terms of parity (counting odd numbers in each row)"
      ]
    },
    {
      "cell_type": "markdown",
      "metadata": {
        "id": "QwTMr_TZLsXZ"
      },
      "source": [
        " | n | n in binary | no. of ones in n's binary rep. | $2^{\\mbox{no. of ones}}$ |\n",
        " |---|-------------|--------------------------------|--------------------------|\n",
        " | 0 |          00 |                              0 | $2^0 = 1$                |\n",
        " | 1 |          01 |                              1 | $2^1 = 2$                |\n",
        " | 2 |          10 |                              1 | $2^1 = 2$                |\n",
        " | 3 |          11 |                              2 | $2^2 = 4$                |\n"
      ]
    },
    {
      "cell_type": "markdown",
      "metadata": {
        "id": "-Vxk-ujlMgNX"
      },
      "source": [
        "### In terms of the Binomial Theorem's $(1 + x)^n$ reduced mod 2"
      ]
    },
    {
      "cell_type": "markdown",
      "metadata": {
        "id": "LW528ZrdMpki"
      },
      "source": [
        "In the following, ```rm2``` stands for 'reduced mod 2'.\n",
        "\n",
        "1. Expand and reduce: $$(1 + x)^2 = 1 + 2x + x^2,\\ \\mbox{rm2} \\Rightarrow 1 + 0x + x^2 = 1 + x^2$$\n",
        "2. Try with an odd power: $$(1 + x)^3 = (1 + 2x + x^2) + (x + 2x^2 + x^3) = 1 + 3x + 3x^2 + x^3,\\ \\mbox{rm2} \\Rightarrow 1 + 1x + 1x^2 + x^3$$\n",
        "3. Better stick with even: $$(1 + x)^4 = 1 + 4x + 6x^2 + 4x^3 + x^4,\\ \\mbox{rm2} \\Rightarrow 1 + x^4$$\n",
        "4. Or decomposed into power of 2 powers: $$(1 + x)^{11} = (1 + x)^{8 + 2 + 1} = (1 + x)^8 (1 + x)^2 (1 + x)^1,\\ \\mbox{rm2} \\Rightarrow (1 + x^8)(1 + x^2)(1 + x^1)$$"
      ]
    },
    {
      "cell_type": "markdown",
      "metadata": {
        "id": "px7pyDP7OiEk"
      },
      "source": [
        "# What is the probability"
      ]
    },
    {
      "cell_type": "markdown",
      "metadata": {
        "id": "693coRaEOtyl"
      },
      "source": [
        "that a randomly chosen number from Pascal's Triangle is even?"
      ]
    },
    {
      "cell_type": "markdown",
      "metadata": {
        "id": "vRqZbqW-O0O6"
      },
      "source": [
        "Hint: Use the complementary probability that a randomly chosen number from Pascal's Triangle is odd!\n"
      ]
    },
    {
      "cell_type": "markdown",
      "metadata": {
        "id": "HNm_DN5JO8j4"
      },
      "source": [
        "```\n",
        "                                                                                                               Total # of 1's\n",
        "  What if you numbered the rows starting at 1 instead of 0?        1                                   1             1\n",
        "                                                                  1 1                                  2             3\n",
        "                                                                 1   1                                 3\n",
        "                                                                1 1 1 1                                4             9\n",
        "                                                               1       1                               5\n",
        "                                                              1 1     1 1                              6\n",
        "                                                             1   1   1   1                             7\n",
        "                                                            1 1 1 1 1 1 1 1                            8            27\n",
        "                                                           1               1                           9\n",
        "                                                          1 1             1 1                         10\n",
        "                                                         1   1           1   1                        11\n",
        "                                                        1 1 1 1         1 1 1 1                       12\n",
        "                                                       1       1       1       1                      13\n",
        "                                                      1 1     1 1     1 1     1 1                     14\n",
        "                                                     1   1   1   1   1   1   1   1                    15\n",
        "                                                    1 1 1 1 1 1 1 1 1 1 1 1 1 1 1 1                   16            81\n",
        "                                                   1                               1                  17\n",
        "                                                  1 1                             1 1                 18\n",
        "                                                 1   1                           1   1                19\n",
        "                                                1 1 1 1                         1 1 1 1               20\n",
        "                                               1       1                       1       1              21\n",
        "                                              1 1     1 1                     1 1     1 1             22\n",
        "                                             1   1   1   1                   1   1   1   1            23\n",
        "                                            1 1 1 1 1 1 1 1                 1 1 1 1 1 1 1 1           24\n",
        "                                           1               1               1               1          25\n",
        "                                          1 1             1 1             1 1             1 1         26\n",
        "                                         1   1           1   1           1   1           1   1        27\n",
        "                                        1 1 1 1         1 1 1 1         1 1 1 1         1 1 1 1       28\n",
        "                                       1       1       1       1       1       1       1       1      29\n",
        "                                      1 1     1 1     1 1     1 1     1 1     1 1     1 1     1 1     30\n",
        "                                     1   1   1   1   1   1   1   1   1   1   1   1   1   1   1   1    31\n",
        "                                    1 1 1 1 1 1 1 1 1 1 1 1 1 1 1 1 1 1 1 1 1 1 1 1 1 1 1 1 1 1 1 1   32          243\n",
        "                                   1                                                               1\n",
        "                                  1 1                                                             1 1\n",
        "                                 1   1                                                           1   1\n",
        "                                1 1 1 1                                                         1 1 1 1\n",
        "                               1       1                                                       1       1\n",
        "                              1 1     1 1                                                     1 1     1 1\n",
        "                             1   1   1   1                                                   1   1   1   1\n",
        "                            1 1 1 1 1 1 1 1                                                 1 1 1 1 1 1 1 1\n",
        "                           1               1                                               1               1\n",
        "                          1 1             1 1                                             1 1             1 1\n",
        "                         1   1           1   1                                           1   1           1   1\n",
        "                        1 1 1 1         1 1 1 1                                         1 1 1 1         1 1 1 1\n",
        "                       1       1       1       1                                       1       1       1       1\n",
        "                      1 1     1 1     1 1     1 1                                     1 1     1 1     1 1     1 1\n",
        "                     1   1   1   1   1   1   1   1                                   1   1   1   1   1   1   1   1\n",
        "                    1 1 1 1 1 1 1 1 1 1 1 1 1 1 1 1                                 1 1 1 1 1 1 1 1 1 1 1 1 1 1 1 1\n",
        "                   1                               1                               1                               1\n",
        "                  1 1                             1 1                             1 1                             1 1\n",
        "                 1   1                           1   1                           1   1                           1   1\n",
        "                1 1 1 1                         1 1 1 1                         1 1 1 1                         1 1 1 1\n",
        "               1       1                       1       1                       1       1                       1       1\n",
        "              1 1     1 1                     1 1     1 1                     1 1     1 1                     1 1     1 1\n",
        "             1   1   1   1                   1   1   1   1                   1   1   1   1                   1   1   1   1\n",
        "            1 1 1 1 1 1 1 1                 1 1 1 1 1 1 1 1                 1 1 1 1 1 1 1 1                 1 1 1 1 1 1 1 1\n",
        "           1               1               1               1               1               1               1               1\n",
        "          1 1             1 1             1 1             1 1             1 1             1 1             1 1             1 1\n",
        "         1   1           1   1           1   1           1   1           1   1           1   1           1   1           1   1\n",
        "        1 1 1 1         1 1 1 1         1 1 1 1         1 1 1 1         1 1 1 1         1 1 1 1         1 1 1 1         1 1 1 1\n",
        "       1       1       1       1       1       1       1       1       1       1       1       1       1       1       1       1\n",
        "      1 1     1 1     1 1     1 1     1 1     1 1     1 1     1 1     1 1     1 1     1 1     1 1     1 1     1 1     1 1     1 1\n",
        "     1   1   1   1   1   1   1   1   1   1   1   1   1   1   1   1   1   1   1   1   1   1   1   1   1   1   1   1   1   1   1   1\n",
        "    1 1 1 1 1 1 1 1 1 1 1 1 1 1 1 1 1 1 1 1 1 1 1 1 1 1 1 1 1 1 1 1 1 1 1 1 1 1 1 1 1 1 1 1 1 1 1 1 1 1 1 1 1 1 1 1 1 1 1 1 1 1 1 1\n",
        "```"
      ]
    },
    {
      "cell_type": "code",
      "metadata": {
        "id": "q8Iwr9iXFNga"
      },
      "source": [
        "def get_total_nums(max):\n",
        "        count = 0\n",
        "        for i in range(0, max + 1):\n",
        "            count += i + 1\n",
        "        return count"
      ],
      "execution_count": 2,
      "outputs": []
    },
    {
      "cell_type": "code",
      "metadata": {
        "id": "UuCATtatFSsB",
        "outputId": "5e40f800-1c6a-4ee1-e3f3-dbf1aad927a2",
        "colab": {
          "base_uri": "https://localhost:8080/"
        }
      },
      "source": [
        "get_total_nums(3)"
      ],
      "execution_count": 5,
      "outputs": [
        {
          "output_type": "execute_result",
          "data": {
            "text/plain": [
              "10"
            ]
          },
          "metadata": {
            "tags": []
          },
          "execution_count": 5
        }
      ]
    },
    {
      "cell_type": "code",
      "metadata": {
        "id": "dMAjSc8tFTpb"
      },
      "source": [
        "def get_total_odds(max):\n",
        "        count = 0\n",
        "        for i in range(0, max + 1):\n",
        "            count += 2 ** bin(i).count(\"1\")\n",
        "        return count"
      ],
      "execution_count": 3,
      "outputs": []
    },
    {
      "cell_type": "code",
      "metadata": {
        "id": "vtqObclUFa88",
        "outputId": "e9fa2b24-687a-4687-9ef3-e929a1af22ca",
        "colab": {
          "base_uri": "https://localhost:8080/"
        }
      },
      "source": [
        "get_total_odds(7)"
      ],
      "execution_count": 6,
      "outputs": [
        {
          "output_type": "execute_result",
          "data": {
            "text/plain": [
              "27"
            ]
          },
          "metadata": {
            "tags": []
          },
          "execution_count": 6
        }
      ]
    },
    {
      "cell_type": "code",
      "metadata": {
        "id": "76BYQWdCFb_Y",
        "outputId": "8530775b-d230-40f4-8f80-8ac88f9541a1",
        "colab": {
          "base_uri": "https://localhost:8080/"
        }
      },
      "source": [
        "get_total_odds(30) / get_total_nums(30)"
      ],
      "execution_count": 7,
      "outputs": [
        {
          "output_type": "execute_result",
          "data": {
            "text/plain": [
              "0.4254032258064516"
            ]
          },
          "metadata": {
            "tags": []
          },
          "execution_count": 7
        }
      ]
    },
    {
      "cell_type": "code",
      "metadata": {
        "id": "qSQzt4fbFffF",
        "outputId": "d3e4ed8d-f759-4225-9e8e-99c4b27054c1",
        "colab": {
          "base_uri": "https://localhost:8080/"
        }
      },
      "source": [
        "1 - get_total_odds(30) / get_total_nums(30)"
      ],
      "execution_count": 8,
      "outputs": [
        {
          "output_type": "execute_result",
          "data": {
            "text/plain": [
              "0.5745967741935484"
            ]
          },
          "metadata": {
            "tags": []
          },
          "execution_count": 8
        }
      ]
    },
    {
      "cell_type": "code",
      "metadata": {
        "id": "xhFVDOCPFjbl",
        "outputId": "609f5971-0ba4-4fa1-9d4d-73209cd133f6",
        "colab": {
          "base_uri": "https://localhost:8080/"
        }
      },
      "source": [
        "print(\"P of odd number with 300 rows: \", get_total_odds(300) / get_total_nums(300))\n",
        "print(\"P of even number with 300 rows: \", 1 - get_total_odds(300) / get_total_nums(300))\n",
        "print(\"P of odd number with 30000 rows: \", get_total_odds(30000) / get_total_nums(30000))\n",
        "print(\"P of even number with 30000 rows: \", 1 - get_total_odds(30000) / get_total_nums(30000))\n",
        "print(\"P of odd number with 999999 rows: \", get_total_odds(999999) / get_total_nums(999999))\n",
        "print(\"P of even number with 999999 rows: \", 1 - get_total_odds(999999) / get_total_nums(999999))"
      ],
      "execution_count": 4,
      "outputs": [
        {
          "output_type": "stream",
          "text": [
            "P of odd number with 300 rows:  0.15935842995753668\n",
            "P of even number with 300 rows:  0.8406415700424633\n",
            "P of odd number with 30000 rows:  0.023748369554714818\n",
            "P of even number with 30000 rows:  0.9762516304452852\n",
            "P of odd number with 999999 rows:  0.005750476011523988\n",
            "P of even number with 999999 rows:  0.994249523988476\n"
          ],
          "name": "stdout"
        }
      ]
    },
    {
      "cell_type": "markdown",
      "metadata": {
        "id": "HI_lD_PBFl_o"
      },
      "source": [
        "The bigger the paskels triangle is the closer the probability gets to 100% that the number cosen will be even. In an infinite pascals triangle the likelihood of choosing an even number will be 100%."
      ]
    }
  ]
}