{
  "nbformat": 4,
  "nbformat_minor": 0,
  "metadata": {
    "colab": {
      "name": "Copy of  07_3_About_Deeper_Elementary_Number_Theory.ipynb",
      "provenance": [],
      "include_colab_link": true
    },
    "kernelspec": {
      "name": "python3",
      "display_name": "Python 3"
    }
  },
  "cells": [
    {
      "cell_type": "markdown",
      "metadata": {
        "id": "view-in-github",
        "colab_type": "text"
      },
      "source": [
        "<a href=\"https://colab.research.google.com/github/brayden10/cse380-notebooks/blob/master/07_3_About_Deeper_Elementary_Number_Theory.ipynb\" target=\"_parent\"><img src=\"https://colab.research.google.com/assets/colab-badge.svg\" alt=\"Open In Colab\"/></a>"
      ]
    },
    {
      "cell_type": "markdown",
      "metadata": {
        "id": "fKBSJ5Hh6UMv"
      },
      "source": [
        "# About Deeper Elementary Number Theory\n",
        "## Class Directed Learning\n",
        "### Due: Wednesday, 17 February 2021, 11:59 pm"
      ]
    },
    {
      "cell_type": "code",
      "metadata": {
        "id": "Oo0rMMhPqEja"
      },
      "source": [
        ""
      ],
      "execution_count": null,
      "outputs": []
    },
    {
      "cell_type": "markdown",
      "metadata": {
        "id": "yx-XMrWE6hEw"
      },
      "source": [
        "## Read and Ponder\n",
        "https://byui-cse.github.io/cse380-course/about-deeper-elementary-number-theory.pdf\n",
        "\n",
        "Put your answers in cells you will add below.\n",
        "\n",
        "Above and beyond behavior: Incorporate the material in the PDF into this notebook."
      ]
    },
    {
      "cell_type": "markdown",
      "metadata": {
        "id": "l7xsHLmdTria"
      },
      "source": [
        "## The Fundamental Theorem of Arithmetic:"
      ]
    },
    {
      "cell_type": "markdown",
      "metadata": {
        "id": "CM7RYyOeT0Ux"
      },
      "source": [
        "Let P = the set of prime numbers, N = the set of natural (nonnegative) numbers, and\r\n",
        "$ Z^{+}$ = the set of positive integers. If $L^{+}$(P, N) is the set of functions f : P → N with the property that\r\n",
        "$$\r\n",
        "\\exists{n} \\in N \\ \\forall p \\in P [p \\ge n \\rightarrow f(p) = 0], \r\n",
        "$$\r\n",
        "then there exists a bijection $Z^{+}$ → $L^{+}$(P, N) such that if z → f then\r\n",
        "$$\r\n",
        "z = \\prod_{p \\in P}{p^{f(p)}}.\r\n",
        "$$"
      ]
    },
    {
      "cell_type": "markdown",
      "metadata": {
        "id": "A-O2YQlbV2oR"
      },
      "source": [
        "According to the Fundamental Theorem of Arithmetic, each positive integer n can be expressed in the form\r\n",
        "$$\r\n",
        "n = 2^{e_{2}}3^{e_{3}}5^{e_{5}}7^{e_{7}}11^{e_{11}} ... = \\prod_{p\\ \\textbf{prime}}p^{e_{p}},\r\n",
        "$$\r\n",
        "where the exponents e2, e3, . . . are uniquely determined nonnegative integers, and where all\r\n",
        "but a finite number of the exponents are zero.\r\n",
        "<br>\r\n",
        "<br>\r\n",
        "— Donald Knuth, writing with <strong>clarity</strong> what the previous page is trying to say."
      ]
    },
    {
      "cell_type": "markdown",
      "metadata": {
        "id": "Cfgc5MfiI6zN"
      },
      "source": [
        "## TODO Explore Fermat's Little Theorem:"
      ]
    },
    {
      "cell_type": "markdown",
      "metadata": {
        "id": "oIx6N1T7Xf0c"
      },
      "source": [
        "### Answer to yesterdays DPC"
      ]
    },
    {
      "cell_type": "markdown",
      "metadata": {
        "id": "0cK1h-SUXl8Y"
      },
      "source": [
        "\r\n",
        "#### Explore Another Proof\r\n",
        "Here is another proof of Fermat’s Little Theorem:\r\n",
        "1. Suppose we have beads in X different colors, and we wish to make bracelets using\r\n",
        "exactly N beads.\r\n",
        "2. First we put N beads on a string.\r\n",
        "3. Since each of the beads can be chosen in X ways, by the product rule there are XN\r\n",
        "possible strings.\r\n",
        "4. For each of the X colors, there is one string entirely of that color, which we throw\r\n",
        "away, leaving XN − X strings.\r\n",
        "5. We join the two ends of each of these remaining strings to form bracelets.\r\n",
        "6. We observe that if two strings differ only by a cyclic permutation of the beads, the\r\n",
        "resulting bracelets will be indistinguishable.\r\n",
        "7. There are N cyclic permutations of the N beads on a string.\r\n",
        "8. Therefore the number of distinguishable bracelets is (XN − X)/N.\r\n",
        "9. Therefore (XN − X)/N must be an integer.\r\n",
        "10. Therefore XN − X is divisible by N.\r\n",
        "11. Q.E.D.\r\n",
        "The hypothesis (N is prime) is implicitly used in one step of this proof. In other words, if\r\n",
        "“Blah” is what the step says, to be complete it should say “Blah, since N is prime.” Which\r\n",
        "step is it?\r\n",
        "Find an explanation of this proof online in written or video form.\r\n"
      ]
    },
    {
      "cell_type": "markdown",
      "metadata": {
        "id": "aXFJU2xsJEvA"
      },
      "source": [
        "Step 7 is the part that infers that N is prime. This is because each bracelet when cut must be unique. This is only true when N is prime.\r\n",
        "\r\n",
        "Article:\r\n",
        "https://mathlesstraveled.com/2017/12/12/fermats-little-theorem-proof-by-necklaces/\r\n",
        "\r\n",
        "Video: https://www.khanacademy.org/computing/computer-science/cryptography/random-algorithms-probability/v/fermat-s-little-theorem-visualization\r\n"
      ]
    },
    {
      "cell_type": "markdown",
      "metadata": {
        "id": "6j2MJVgnX2xL"
      },
      "source": [
        "## TODO Explore Primes and Probability Further\r\n",
        "You have already seen one connection between coprimality and probability in the determination that the probability that two randomly chosen positive integers are coprime being\r\n",
        "the reciprocal $(\\frac{π^{2}}{6})$ of the sum of the reciprocals of the squares of the positive integers\r\n",
        "$(\\frac{π^{2}}{6})$.\r\n",
        "<br>\r\n",
        "<br>\r\n",
        "There are other connections between primality and probability!\r\n",
        "A probabilistic algorithm is an algorithm that might give the incorrect answer, but\r\n",
        "only with small probability. For example, there are good probabilistic algorithms that test\r\n",
        "whether or not a natural number is prime. Many of these are based on a deterministic\r\n",
        "test using Fermat’s little theorem, which, going back to the first statement of it, says\r\n",
        "that if N is prime, then N divides $X^{N}$ - X. Which implies that if N doesn’t divide $X^{N}$ - X\r\n",
        "for some X, then N can’t be prime.\r\n",
        "<br>\r\n",
        "<br>\r\n",
        "Unfortunately, this test doesn’t always work, because pseudoprimes fool it.\r\n",
        "<br>\r\n",
        "<br>\r\n",
        "In the book is a brief mention of the Prime Number Theorem. This theorem states that\r\n",
        "the number of primes not exceeding (less than or equal to) the number n is approximately\r\n",
        "equal to n / log n. Can you use this theorem to estimate the probability that a randomlychosen k-digit number is prime?"
      ]
    },
    {
      "cell_type": "code",
      "metadata": {
        "id": "sjAe_0fZR4H4",
        "colab": {
          "base_uri": "https://localhost:8080/"
        },
        "outputId": "510f852f-418a-4788-c682-06b588651824"
      },
      "source": [
        "from math import log\r\n",
        "\r\n",
        "def prob_k(k):\r\n",
        "  n = (10 ** (k + 1)) - 1\r\n",
        "  m = (10 ** k) - 1\r\n",
        "  return ((n/log(n)) - (m/log(m))) / (n-m)\r\n",
        "\r\n",
        "for k in range(1, 10):\r\n",
        "  print(prob_k(k))"
      ],
      "execution_count": null,
      "outputs": [
        {
          "output_type": "stream",
          "text": [
            "0.1938724368727183\n",
            "0.13677379560330394\n",
            "0.10455537855843747\n",
            "0.08444634338553433\n",
            "0.07077392909303835\n",
            "0.06089314263700293\n",
            "0.053425114913450325\n",
            "0.047584734905908165\n",
            "0.04289328216377114\n"
          ],
          "name": "stdout"
        }
      ]
    },
    {
      "cell_type": "markdown",
      "metadata": {
        "id": "pNSjdgIXTebL"
      },
      "source": [
        "It is worthy of note that as K approaches infinity the probability of picking a prime will become zero."
      ]
    },
    {
      "cell_type": "code",
      "metadata": {
        "id": "qrb1PXuMTlp3"
      },
      "source": [
        ""
      ],
      "execution_count": null,
      "outputs": []
    }
  ]
}