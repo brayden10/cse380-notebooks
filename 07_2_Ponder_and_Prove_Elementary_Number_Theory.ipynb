{
  "nbformat": 4,
  "nbformat_minor": 0,
  "metadata": {
    "kernelspec": {
      "display_name": "Python 3",
      "language": "python",
      "name": "python3"
    },
    "language_info": {
      "codemirror_mode": {
        "name": "ipython",
        "version": 3
      },
      "file_extension": ".py",
      "mimetype": "text/x-python",
      "name": "python",
      "nbconvert_exporter": "python",
      "pygments_lexer": "ipython3",
      "version": "3.9.0"
    },
    "colab": {
      "name": "Copy of 07_2_Ponder_and_Prove_Elementary_Number_Theory.ipynb",
      "provenance": [],
      "include_colab_link": true
    }
  },
  "cells": [
    {
      "cell_type": "markdown",
      "metadata": {
        "id": "view-in-github",
        "colab_type": "text"
      },
      "source": [
        "<a href=\"https://colab.research.google.com/github/brayden10/cse380-notebooks/blob/master/07_2_Ponder_and_Prove_Elementary_Number_Theory.ipynb\" target=\"_parent\"><img src=\"https://colab.research.google.com/assets/colab-badge.svg\" alt=\"Open In Colab\"/></a>"
      ]
    },
    {
      "cell_type": "markdown",
      "metadata": {
        "id": "1rG4k7VvQ2WT"
      },
      "source": [
        "# Ponder and Prove Elementary Number Theory\n",
        "#### Due: Saturday, 20 February 2021, 11:59 pm."
      ]
    },
    {
      "cell_type": "markdown",
      "metadata": {
        "id": "W0WxE3IAQ2WU"
      },
      "source": [
        "## Explore Fermat's Little Theorem Further\n"
      ]
    },
    {
      "cell_type": "markdown",
      "metadata": {
        "id": "w2vby9erSjOv"
      },
      "source": [
        "Fermat's Little Theorem (FLT) says that if $N$ is prime, then $N$ divides $X^N - X$.\n",
        "\n",
        "Remember, the contrapositive of the conditional statement in this theorem is that if $N$ **doesn't** divide $X^N - X$ for some $X$, then $N$ **can't** be prime.\n",
        "\n",
        "Unfortunately, this simple primality test doesn't always work, because it can be fooled by **pseudoprimes**.\n",
        "\n",
        "For example, $341 = 11 \\cdot 31$ is not prime. But $341$ **does** divide $2^{341} - 2$ as verified below:"
      ]
    },
    {
      "cell_type": "code",
      "metadata": {
        "id": "NBrPMgZoTLAe",
        "colab": {
          "base_uri": "https://localhost:8080/"
        },
        "outputId": "63db5305-9403-4e48-d02c-a5585d5c4507"
      },
      "source": [
        "((2 ** 341) - 2) % 341"
      ],
      "execution_count": null,
      "outputs": [
        {
          "output_type": "execute_result",
          "data": {
            "text/plain": [
              "0"
            ]
          },
          "metadata": {
            "tags": []
          },
          "execution_count": 34
        }
      ]
    },
    {
      "cell_type": "markdown",
      "metadata": {
        "id": "igGoVqAOTTm_"
      },
      "source": [
        "So $341$ is a so-called **base-2 pseudoprime**. What about **base-3**?"
      ]
    },
    {
      "cell_type": "code",
      "metadata": {
        "id": "hwrSZ1xDTVxW",
        "colab": {
          "base_uri": "https://localhost:8080/"
        },
        "outputId": "60a910af-483e-485c-f431-b26ee1fd213f"
      },
      "source": [
        "((3 ** 341) - 3) % 341"
      ],
      "execution_count": null,
      "outputs": [
        {
          "output_type": "execute_result",
          "data": {
            "text/plain": [
              "165"
            ]
          },
          "metadata": {
            "tags": []
          },
          "execution_count": 35
        }
      ]
    },
    {
      "cell_type": "markdown",
      "metadata": {
        "id": "sc9w28MiTZXk"
      },
      "source": [
        "Check that the result is not zero, therefore $341$ is **not** a **base-3 pseudoprime**.\n",
        "\n",
        "Are there any other bases that will not fool the FLT test for $341$?\n",
        "\n",
        "Are there any pseudoprimes that will fool the FLT for **any choice** of base coprime to them?"
      ]
    },
    {
      "cell_type": "markdown",
      "metadata": {
        "id": "AMFTYECVTgy4"
      },
      "source": [
        "### The answer is yes."
      ]
    },
    {
      "cell_type": "markdown",
      "metadata": {
        "id": "u-CxbDylTkYp"
      },
      "source": [
        "Your task is the find the first 4-digit **bullet-proof pseudoprime** (**bppp**) and **prove** (yes, **PROVE**) that it will fool the FLT test for every base coprime to it.\n",
        "\n",
        "Your proof must use all of the following:\n",
        "1. the definition of coprime, - \n",
        "\"Integers whose gcd is 1 are called coprime (or relatively prime,\n",
        "meaning prime relative to each other)\"\n",
        "2. a consequence of coprimality, - \n",
        "\"\n",
        "3. the factorization of the **bppp**,\n",
        "\"All numbers that multiply to the bppp\"\n",
        "4. FLT, and the -\n",
        "\"Fermat's Little Theorem\n",
        "5. CRT (Chinese Remainder Theorem).\n",
        "\"The Chinese Remainder Theorem, or CRT, says that given the\n",
        "remainders from dividing an integer n by an arbitrary set of divisors, the remainder when n is divided by the least common multiple of those\n",
        "divisors is uniquely determinable.\"\n"
      ]
    },
    {
      "cell_type": "code",
      "metadata": {
        "id": "W-ICIqb-umBy",
        "colab": {
          "base_uri": "https://localhost:8080/"
        },
        "outputId": "6089264f-fc81-4773-cd0d-283c2c1e25ce"
      },
      "source": [
        "from math import gcd\r\n",
        "from sympy import sieve\r\n",
        "\r\n",
        "primes = list(sieve.primerange(1000, 10000))\r\n",
        "\r\n",
        "for N in range(1001, 10000, 2):\r\n",
        "  gcd_count = 0\r\n",
        "  fool_count = 0\r\n",
        "  if N not in primes:\r\n",
        "    for X in range(2, 600):\r\n",
        "      if gcd(X, N) == 1:\r\n",
        "        gcd_count += 1\r\n",
        "        if ((X ** N) - X) % N == 0:\r\n",
        "          fool_count += 1\r\n",
        "    if gcd_count == fool_count:\r\n",
        "      print(f'The number {N} is correct!')\r\n",
        "      "
      ],
      "execution_count": null,
      "outputs": [
        {
          "output_type": "stream",
          "text": [
            "The number 1105 is correct!\n",
            "The number 1729 is correct!\n",
            "The number 2465 is correct!\n",
            "The number 2821 is correct!\n",
            "The number 6601 is correct!\n",
            "The number 8911 is correct!\n"
          ],
          "name": "stdout"
        }
      ]
    },
    {
      "cell_type": "code",
      "metadata": {
        "colab": {
          "base_uri": "https://localhost:8080/"
        },
        "id": "dG7v5A2LI9AI",
        "outputId": "2175e24b-fb48-4609-bf34-ab2682440bcd"
      },
      "source": [
        "from sympy.ntheory import factorint\r\n",
        "\r\n",
        "print(factorint(1105))"
      ],
      "execution_count": null,
      "outputs": [
        {
          "output_type": "stream",
          "text": [
            "{5: 1, 13: 1, 17: 1}\n"
          ],
          "name": "stdout"
        }
      ]
    },
    {
      "cell_type": "code",
      "metadata": {
        "colab": {
          "base_uri": "https://localhost:8080/"
        },
        "id": "vlscvk7d9m5F",
        "outputId": "f7277ab7-6792-470b-f7bd-f5842fdc5b38"
      },
      "source": [
        "N = 1105\r\n",
        "X = 3\r\n",
        "((X ** N) - X) % N == 0"
      ],
      "execution_count": null,
      "outputs": [
        {
          "output_type": "execute_result",
          "data": {
            "text/plain": [
              "True"
            ]
          },
          "metadata": {
            "tags": []
          },
          "execution_count": 19
        }
      ]
    },
    {
      "cell_type": "markdown",
      "metadata": {
        "id": "YJU8-fNuIehL"
      },
      "source": [
        "## Proof"
      ]
    },
    {
      "cell_type": "markdown",
      "metadata": {
        "id": "1elnfx-QIgjg"
      },
      "source": [
        "1. The first four digit bppp 1105 is composite because it has prime factors 5 X 13 X 17\r\n",
        "2. If a number $b$ and 1105 have a $gcd(b,1105) = 1$ then $b$ and 1105 are coprime.\r\n",
        "3. If $gcd(b,1105) = 1$, then $gcd(b,5) = gcd(b,13) = gcd(b,17) = 1$ <br>\r\n",
        "thus, the consequnce of coprimality is that if any number b is coprime to 1105 it is automatically coprime to it's prime factors 5, 13, and 17\r\n",
        "4. By FLT, these three facts follow because 5, 13, and 17 are prime and b is coprime to 1105:<br>\r\n",
        "  1. $b^{4} \\equiv _{5} 1$ <br>\r\n",
        "  2. $b^{12} \\equiv _{13} 1$ <br>\r\n",
        "  3. $b^{16} \\equiv _{17} 1$ <br>\r\n",
        "5. Because 1104 is 1 less than 1105, and is also a multiple of 4, 12, and 16 - which are 1 less than 5, 13, and 17 - it follows that: <br>\r\n",
        "$ (b^{4})^{276} = b^{1104} \\equiv _{5} 1 $ <br>\r\n",
        "$ (b^{12})^{92} = b^{1104} \\equiv _{13} 1 $ <br>\r\n",
        "$ (b^{16})^{69} = b^{1104} \\equiv _{17} 1 $ <br>\r\n",
        "Therefore $ b^{1104} \\equiv _{1105} 1$ <br>\r\n",
        "6. This follows from the Chinese Remainder Theorem because $lcm(5,13,17) = 1105 $ so numbers that have a remainder of 1 when divided by any of those factors must also have a remainder of 1 when divided by 1105. \r\n",
        "7. Thus for any b coprime to 1105, b raised to 1004 is equivalent mod 1105 to 1. This means that 1105 fools the FLT test for all b coprime to 1105.\r\n",
        "8. Q.E.D.\r\n"
      ]
    },
    {
      "cell_type": "code",
      "metadata": {
        "colab": {
          "base_uri": "https://localhost:8080/"
        },
        "id": "870Q0rBdUBsz",
        "outputId": "1db0439a-8353-4059-e812-5108c26fdc14"
      },
      "source": [
        "def lcm(a, b):\r\n",
        "    return abs(a*b) // gcd(a, b)\r\n",
        "\r\n",
        "lcm(lcm(5, 13), 17)"
      ],
      "execution_count": null,
      "outputs": [
        {
          "output_type": "execute_result",
          "data": {
            "text/plain": [
              "1105"
            ]
          },
          "metadata": {
            "tags": []
          },
          "execution_count": 18
        }
      ]
    },
    {
      "cell_type": "markdown",
      "metadata": {
        "id": "bDBNlOv0_ia9"
      },
      "source": [
        "$\\color{red}{\\text{Excellent work!}}$"
      ]
    },
    {
      "cell_type": "markdown",
      "metadata": {
        "id": "5Cgy_0B4Q2WW"
      },
      "source": [
        "## What is True?\n",
        "Assess yourself on how you did using the checkboxes below. Check a box by putting an 'X' in it only if it is warranted.\n"
      ]
    },
    {
      "cell_type": "markdown",
      "metadata": {
        "id": "81dbKwHenxnT"
      },
      "source": [
        "# My Report on What I Did and What I Learned"
      ]
    },
    {
      "cell_type": "markdown",
      "metadata": {
        "id": "C8BeiIern33B"
      },
      "source": [
        "## Fun\n",
        " I feel that I learned a lot in this PAP. I had fun working together as a group. "
      ]
    },
    {
      "cell_type": "markdown",
      "metadata": {
        "id": "OzOkZ3son-u9"
      },
      "source": [
        "## New\n",
        "I learned what a co-Prime is. I also learned how to get false primes for the FLT. I learned that any number can be made out of a multiplication of prime numbers. "
      ]
    },
    {
      "cell_type": "markdown",
      "metadata": {
        "id": "mJHvoj6GokaZ"
      },
      "source": [
        "## Meaningful\n",
        "Our group desided that although we didnt fully understand the Chinese Remander Therom it would be a good thing to build on and learn more about in the future. We whent though every step in our proof and determined what each was meant to prove and how it proved it so that the proof would be of use in the future when nessesary. "
      ]
    },
    {
      "cell_type": "markdown",
      "metadata": {
        "id": "_RBE03fhpNUG"
      },
      "source": [
        "## Other\n",
        "I worked with the same group of people I have worked with every week on the Ponder and Prove for this class. We make sure to all contribute something. paul finds good stuff to look at online. Davis makes a really good outline of the PAP. Davis is our fact checker and I ask quastions and make sure we have a good understanding of the materiel. "
      ]
    },
    {
      "cell_type": "markdown",
      "metadata": {
        "id": "Nrk-8EmgW4NP"
      },
      "source": [
        "# What is True?\n",
        "Click on each warranted checkbox to toggle it to True (or back to False). \n",
        "\n",
        "NOTE: *This only works in Colab. If you run it in some other Jupyter notebook client/server environment you may have to change False to True (or vice versa) manually.*\n",
        "\n",
        "This self-assessment is subject to revision by a grader."
      ]
    },
    {
      "cell_type": "code",
      "metadata": {
        "id": "qGAjzgVRXR4M"
      },
      "source": [
        "#@markdown ## What is True about what I did?\n",
        "#@markdown ### I had fun.\n",
        "cb00 = True #@param {type:'boolean'}\n",
        "#@markdown ### I learned something new.\n",
        "cb01 = True #@param {type:'boolean'}\n",
        "#@markdown ### I achieved something meaningful, or something I can build upon at a later time.\n",
        "cb02 = True #@param {type:'boolean'}\n",
        "#@markdown ## What is true about my report?\n",
        "#@markdown ### I wrote a sufficient number of well-written sentences.\n",
        "cb03 = True #@param {type:'boolean'}\n",
        "#@markdown ### My report is free of mechanical infelicities.\n",
        "cb04 = True #@param {type:'boolean'}\n",
        "#@markdown ### I used Grammarly (or something better described in my report) to check for MIs.\n",
        "cb05 = True #@param {type:'boolean'}\n",
        "#@markdown ### I reported on any connections I found between these problems and something I already know. \n",
        "cb06 = True #@param {type:'boolean'}\n",
        "#@markdown ### I reported who were and what contribution each of my collaborators made.\n",
        "cb07 = True #@param {type:'boolean'}\n",
        "#@markdown ## What is true about my proof?\n",
        "#@markdown ### It succinctly uses the definition of coprime.\n",
        "cb08 = True #@param {type:'boolean'}\n",
        "#@markdown ### It correctly uses the definition of coprime.\n",
        "cb09 = True #@param {type:'boolean'}\n",
        "#@markdown ### It succinctly uses a consequence of comprimality\n",
        "cb10 = False #@param {type:'boolean'}\n",
        "#@markdown ### It correctly uses a consequence of comprimality\n",
        "cb11 = True #@param {type:'boolean'}\n",
        "#@markdown ### It succinctly uses the factorization of the **bppp**,\n",
        "cb12 = True #@param {type:'boolean'}\n",
        "#@markdown ### It correctly uses the factorization of the **bppp**,\n",
        "cb13 = True #@param {type:'boolean'}\n",
        "#@markdown ### It succinctly uses Fermat's Little Theorem. \n",
        "cb14 = True #@param {type:'boolean'}\n",
        "#@markdown ### It correctly uses Fermat's Little Theorem. \n",
        "cb15 = True #@param {type:'boolean'}\n",
        "#@markdown ### It succinctly uses the Chinese Remainder Theorem.\n",
        "cb16 = True #@param {type:'boolean'}\n",
        "#@markdown ### It correctly uses the Chinese Remainder Theorem.\n",
        "cb17 = True #@param {type:'boolean'}\n",
        "\n"
      ],
      "execution_count": null,
      "outputs": []
    }
  ]
}