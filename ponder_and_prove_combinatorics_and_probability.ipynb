{
  "nbformat": 4,
  "nbformat_minor": 0,
  "metadata": {
    "kernelspec": {
      "display_name": "Python 3",
      "language": "python",
      "name": "python3"
    },
    "language_info": {
      "codemirror_mode": {
        "name": "ipython",
        "version": 3
      },
      "file_extension": ".py",
      "mimetype": "text/x-python",
      "name": "python",
      "nbconvert_exporter": "python",
      "pygments_lexer": "ipython3",
      "version": "3.9.0"
    },
    "colab": {
      "name": "ponder_and_prove_combinatorics_and_probability.ipynb",
      "provenance": [],
      "include_colab_link": true
    }
  },
  "cells": [
    {
      "cell_type": "markdown",
      "metadata": {
        "id": "view-in-github",
        "colab_type": "text"
      },
      "source": [
        "<a href=\"https://colab.research.google.com/github/brayden10/cse380-notebooks/blob/master/ponder_and_prove_combinatorics_and_probability.ipynb\" target=\"_parent\"><img src=\"https://colab.research.google.com/assets/colab-badge.svg\" alt=\"Open In Colab\"/></a>"
      ]
    },
    {
      "cell_type": "markdown",
      "metadata": {
        "id": "XwZnv7t-5eMH"
      },
      "source": [
        "# Ponder and Prove Combinatorics and Probability\n",
        "#### Due: Saturday, 6 February 2021, 11:59 pm."
      ]
    },
    {
      "cell_type": "markdown",
      "metadata": {
        "id": "VsaE7MCY5eMO"
      },
      "source": [
        "## Conjecture\n",
        "\n",
        "A number-theoretic conjecture of combinatorial significance is the following:\n",
        "\n",
        "$degree2({2n \\choose n}) =$ the \"bits-on count\" (or population count, or Hamming weight) of $n$.\n",
        "\n",
        "$degree2(m)$ is defined as the number (degree, exponent) of 2's in the prime factorization of $m$.\n",
        "\n",
        "In other words, for any $m$, a positive integer, $m = 2^e \\cdot o$ where $o$ is an odd positive integer (could be 1) and $e$ is a natural number, including zero --- which would be the case when $m$ is odd. It's the $e$ that is the $degree2$ of $m$.\n",
        "\n",
        "Another way to state this conjecture is that the number of 1's in the binary expansion of ${2n \\choose n}$ for positive integer $n$ is equal to the number of 2's in the prime factorization of $n$.\n",
        "\n",
        "Your task is to write Python code to test this conjecture for as many positive integers as you can. See the self-assessment for more details.\n",
        "\n",
        "Note: a `bitsoncount` function can be a one-liner in Python: `return bin(x).count('1')`\n",
        "\n"
      ]
    },
    {
      "cell_type": "code",
      "metadata": {
        "id": "dwBqhZFO5kss"
      },
      "source": [
        "from math import gcd \n",
        "\n",
        "def nCk(n, k):\n",
        "  if k < 0 or k > n:\n",
        "    return 0\n",
        "  else:\n",
        "    result = 1\n",
        "    d = 1\n",
        "    g = 1\n",
        "    m = min(k, n - k)\n",
        "    while (d <= m):\n",
        "      g = gcd(result, d)\n",
        "      result = n * (result // g)\n",
        "      result = (result // (d // g))\n",
        "      n -= 1\n",
        "      d += 1\n",
        "    return result"
      ],
      "execution_count": 1,
      "outputs": []
    },
    {
      "cell_type": "code",
      "metadata": {
        "id": "_djel7oY5sli",
        "outputId": "5046de8d-1532-4d9b-af99-e2261c7fde99",
        "colab": {
          "base_uri": "https://localhost:8080/"
        }
      },
      "source": [
        "from math import floor, log2, log\n",
        "\n",
        "def bitsoncount(x):\n",
        "  return bin(x).count('1')\n",
        "\n",
        "def prime_fact2(m):\n",
        "  count = 0\n",
        "  while m % 2 == 0 and m != 0: \n",
        "        count += 1\n",
        "        m = m // 2\n",
        "  return count\n",
        "\n",
        "def two_nCn(n):\n",
        "  return nCk(2 * n, n)\n",
        "\n",
        "print(two_nCn(26))\n",
        "n = two_nCn(26)\n",
        "print(bitsoncount(26))\n",
        "print(prime_fact2(n))"
      ],
      "execution_count": 2,
      "outputs": [
        {
          "output_type": "stream",
          "text": [
            "495918532948104\n",
            "3\n",
            "3\n"
          ],
          "name": "stdout"
        }
      ]
    },
    {
      "cell_type": "code",
      "metadata": {
        "id": "fIJVGmAq5uX3",
        "outputId": "230fa4d3-9dba-4679-a655-e9788c3cedfa",
        "colab": {
          "base_uri": "https://localhost:8080/",
          "height": 130
        }
      },
      "source": [
        "  invalid_counter = 0\n",
        "\n",
        "  for n in range(1, 10000):\n",
        "    if prime_fact2(two_nCn(n)) != bitsoncount(n):\n",
        "      invalid_counter += 1\n",
        "  return invalid_counter\n",
        "\n",
        "print(f'In the first 1000 integers there are {verify_conjecture()} that fail to follow the pattern')"
      ],
      "execution_count": 3,
      "outputs": [
        {
          "output_type": "error",
          "ename": "SyntaxError",
          "evalue": "ignored",
          "traceback": [
            "\u001b[0;36m  File \u001b[0;32m\"<ipython-input-3-898345aaec56>\"\u001b[0;36m, line \u001b[0;32m6\u001b[0m\n\u001b[0;31m    return invalid_counter\u001b[0m\n\u001b[0m                          ^\u001b[0m\n\u001b[0;31mSyntaxError\u001b[0m\u001b[0;31m:\u001b[0m 'return' outside function\n"
          ]
        }
      ]
    },
    {
      "cell_type": "code",
      "metadata": {
        "id": "88ohRbRbFC1K"
      },
      "source": [
        "from math import gcd\n",
        "\n",
        "def nCk(n, k):\n",
        "  if k < 0 or k > n:\n",
        "    return 0\n",
        "  else:\n",
        "    result = 1\n",
        "    d = 1\n",
        "    g = 1\n",
        "    m = min(k, n - k)\n",
        "    while (d <= m):\n",
        "      g = gcd(result, d)\n",
        "      result = n * (result // g)\n",
        "      result = (result // (d // g))\n",
        "      n -= 1\n",
        "      d += 1\n",
        "    return result\n",
        "\n",
        "def count_twos(x):\n",
        "  if x % 2 == 0 and x != 0:\n",
        "    return 1 + count_twos(x // 2)\n",
        "  else:\n",
        "    return 0\n",
        "\n",
        "bitsoncount = lambda x: bin(x).count('1')"
      ],
      "execution_count": 8,
      "outputs": []
    },
    {
      "cell_type": "code",
      "metadata": {
        "id": "ZLvElTVVEnAO"
      },
      "source": [
        "def test_group(min, max):\n",
        "  return len([n for n in range(min, max) if count_twos(nCk(2*n, n)) != bitsoncount(n)])\n",
        "\n",
        "def continue_testing(x, errors=0, step=1000):\n",
        "  y = x + step\n",
        "  error_new = errors + test_group(x, y)\n",
        "  print(f'Tested up to {y} and found {error_new} errors')\n",
        "  continue_testing(y, error_new, step)"
      ],
      "execution_count": 9,
      "outputs": []
    },
    {
      "cell_type": "code",
      "metadata": {
        "id": "lrTNjOtJEqy0"
      },
      "source": [
        "continue_testing(0, step=100000)"
      ],
      "execution_count": null,
      "outputs": []
    },
    {
      "cell_type": "markdown",
      "metadata": {
        "id": "V0GSuSyl50tF"
      },
      "source": [
        "\n",
        "* I reported on how many numbers I was able to verify with a time/computation budget of 24 hours (in a row).\n",
        "* I figured out how to run a Python program continuously for at least 24 hours\n",
        "* I refrained from printing out anything except the highest number I verified, knowing that printing just slows a program down."
      ]
    },
    {
      "cell_type": "markdown",
      "metadata": {
        "id": "EkqA6_ft5eMP"
      },
      "source": [
        "## Basic Probability Theory Question\n",
        "A dark room contains two barrels. The first barrel is filled with green marbles, the second is filled with a half-and-half mixture of green and blue marbles. So there's a 100% chance of choosing a green marble from the first barrel, and a 50% chance of choosing either color in the second barrel. You reach into one of the barrels (it's dark so you don't know which one) and select a marble at random. It's green. You select another. It's green too. You select a third, a fourth, a fifth, etc. Green each time. What is the *minimum* number of marbles you need to select to *exceed* a probability of 99% that you are picking them out of the all-green barrel? (Note that there are enough marbles so that the answer does not depend on how many marbles are in the second barrel.)\n"
      ]
    },
    {
      "cell_type": "code",
      "metadata": {
        "id": "NhrfgiGJ6W8J"
      },
      "source": [
        "probability = (1/2)\n",
        "marbles_picked = 1\n",
        "while probability >= (1/100):\n",
        "  marbles_picked += 1\n",
        "  probability = probability * (1/2)\n",
        "print(marbles_picked)"
      ],
      "execution_count": null,
      "outputs": []
    },
    {
      "cell_type": "markdown",
      "metadata": {
        "id": "eEYnnUf26eWA"
      },
      "source": [
        "Picking 7 green marbles means there is over a 99% probability you are choosing marbles from the all-green barrel.\n",
        "\n",
        "* I got the right answer for the first probability theory question."
      ]
    },
    {
      "cell_type": "markdown",
      "metadata": {
        "id": "V6mliBxT5eMP"
      },
      "source": [
        "## A Related But Deeper Basic Probability Theory Question\n",
        "Take a deep breath. Suppose Shakespeare's account is accurate and Julius Caesar gasped \"You too, Brutus\" before breathing his last. What is the probability that you just inhaled a molecule that Julius Caesar exhaled in his dying breath?\n",
        "\n",
        "Assume that after more than two thousand years the exhaled molecules are uniformly spread about the world and the vast majority are still free in the atmosphere. Assume further that there are $10^{44}$ molecules of air in the world, and that your inhaled quantity and Caesar's exhaled quantity were each about $2.2 \\times 10^{22}$ molecules.\n",
        "### Hint\n",
        "If a number $x$ is small, then $(1 - x)$ is approximately equal to $e^{-x}$.\n"
      ]
    },
    {
      "cell_type": "markdown",
      "metadata": {
        "id": "u1v4VePgEOgm"
      },
      "source": [
        "The probability that\n",
        "\n",
        "P(Breathing-Same) = 1 - P(Not-Breathing-Same)\n",
        "\n",
        "P(Not-Breathing-Same) = P(Not-Breathing-One-Molecule) ^ n, where n is the number of molecules breathed in\n",
        "\n",
        "P(Not-Breathing-One-Molecule) = 1 - P(Breathing-One-Molecule)\n",
        "\n",
        "P(Breathing-One-Molecule) = n / w, where n is the number of molecules exhaled and w is the molecules of air in the world\n",
        "\n",
        "Thus,"
      ]
    },
    {
      "cell_type": "markdown",
      "metadata": {
        "id": "VOHPaptwEQUm"
      },
      "source": [
        "$$\n",
        "P(Breathing-Same) = 1 - ((1 - n / w)^n)\\\\\n",
        "= 1 - ((1 - (2.2 \\times 10^{22} / 10^{44})) ^ {2.2 \\times 10^{22}})\\\\\n",
        "\\approx e^{-((1 - (2.2 \\times 10^{22} / 10^{44})) ^ {2.2 \\times 10^{22}})}\\\\\n",
        "\\approx e^{-((e^{-(2.2 \\times 10^{22} / 10^{44})}) ^ {2.2 \\times 10^{22}})}\\\\\n",
        "\\approx e^{-(e^{-(2.2 \\times 10^{22} * 2.2 \\times 10^{22} / 10^{44})})}\\\\\n",
        "\\approx e^{-(e^{-4.84})}\n",
        "$$\n"
      ]
    },
    {
      "cell_type": "code",
      "metadata": {
        "id": "tmXk08GDF1EN"
      },
      "source": [
        "from math import e\n",
        "\n",
        "e**(-(e**(-4.84)))"
      ],
      "execution_count": null,
      "outputs": []
    },
    {
      "cell_type": "markdown",
      "metadata": {
        "id": "5iprddRs5eMP"
      },
      "source": [
        "## What is True?\n",
        "Assess yourself on how you did using the checkboxes below. Check a box by putting an 'X' in it only if it is warranted.\n"
      ]
    },
    {
      "cell_type": "markdown",
      "metadata": {
        "id": "7LkFcWBk5eMQ"
      },
      "source": [
        "### What is true of my experience in general?\n",
        "(5 points each, 15 points total)\n",
        "- [x] I had fun.\n",
        "- [x] I learned something new.\n",
        "- [x] I achieved something meaningful, or something I can build upon at a later time."
      ]
    },
    {
      "cell_type": "markdown",
      "metadata": {
        "id": "tOC2WE4J5eMQ"
      },
      "source": [
        "### What is true of my report on what I learned?\n",
        "(5 points each, 25 points total)\n",
        "- [x] I wrote a sufficient number of well-written sentences.\n",
        "- [x] My report is free of \"mechanical infelicities\" (misspelled words, grammatical errors, punctuation errors, etc.).\n",
        "- [ ] I reported on any connections I found between this investigation and something I already know.\n",
        "- [ ] I reported who were and what contribution each of my collaborators made.\n",
        "- [ ] I reported on how many numbers I was able to verify with a time/computation budget of 24 hours (in a row).\n"
      ]
    },
    {
      "cell_type": "markdown",
      "metadata": {
        "id": "NeRg7eXo5eMQ"
      },
      "source": [
        "### What is true about my answers?\n",
        "(15 points each, 60 points total)\n",
        "- [ ] I figured out how to run a Python program continuously for at least 24 hours.\n",
        "- [ ] I refrained from printing out anything except the highest number I verified, knowing that printing just slows a program down.\n",
        "- [ ] I got the right answer for the first probability theory question.\n",
        "- [ ] I got the right answer for the second probability theory question.\n"
      ]
    },
    {
      "cell_type": "code",
      "metadata": {
        "id": "eMxj_Xcd5eMR"
      },
      "source": [
        ""
      ],
      "execution_count": null,
      "outputs": []
    }
  ]
}